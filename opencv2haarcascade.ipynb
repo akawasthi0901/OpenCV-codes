{
 "cells": [
  {
   "cell_type": "code",
   "execution_count": 1,
   "id": "b8be45e4",
   "metadata": {},
   "outputs": [],
   "source": [
    "# import numpy as np\n",
    "# import cv2\n",
    "# faceclassifier= cv2.CascadeClassifier(cv2.data.haarcascades + \"haarcascade_frontalface_default.xml\")\n",
    "# #image = cv2.imread('C:/Users/akash/Face_Recognition_Project/trainingimages/0/276901.jpg')\n",
    "# image = cv2.imread('C:/Users/akash/Face_Recognition_Project/trainingimages/0/276192.jpg')\n",
    "# gray = cv2.cvtColor(image, cv2.COLOR_BGR2GRAY)\n",
    "# faces=faceclassifier.detectMultiScale(gray,1.3,5)\n",
    "# if faces is ():\n",
    "#     print(\"No faces found.\")\n",
    "    \n",
    "# for(x,y,w,h) in faces:\n",
    "#     cv2.rectangle(image, (x,y), (x+w,y+h), (127,0,255), 2)\n",
    "#     cv2.imshow('Face detection', image)\n",
    "#     cv2.waitKey(0)\n",
    "    \n",
    "# cv2.destroyAllWindows()    "
   ]
  },
  {
   "cell_type": "code",
   "execution_count": 2,
   "id": "239f1b30",
   "metadata": {},
   "outputs": [
    {
     "name": "stderr",
     "output_type": "stream",
     "text": [
      "<>:10: SyntaxWarning: \"is\" with a literal. Did you mean \"==\"?\n",
      "<>:10: SyntaxWarning: \"is\" with a literal. Did you mean \"==\"?\n",
      "<ipython-input-2-0417de745181>:10: SyntaxWarning: \"is\" with a literal. Did you mean \"==\"?\n",
      "  if faces is ():\n"
     ]
    }
   ],
   "source": [
    "import numpy as np\n",
    "import cv2\n",
    "faceclassifier= cv2.CascadeClassifier(cv2.data.haarcascades + \"haarcascade_frontalface_default.xml\")\n",
    "eyeclassifier = cv2.CascadeClassifier(cv2.data.haarcascades + \"haarcascade_eye.xml\")\n",
    "#image = cv2.imread('C:/Users/akash/Face_Recognition_Project/trainingimages/0/276901.jpg')\n",
    "#img = cv2.imread('C:/Users/akash/Face_Recognition_Project/trainingimages/0/276192.jpg')\n",
    "img = cv2.imread('C:/Users/akash/Face_Recognition_Project/test_images/1 (1).jpg')\n",
    "gray = cv2.cvtColor(img, cv2.COLOR_BGR2GRAY)\n",
    "faces=faceclassifier.detectMultiScale(gray,1.3,5)\n",
    "if faces is ():\n",
    "    print(\"No faces found.\")\n",
    "    \n",
    "for(x,y,w,h) in faces:\n",
    "    cv2.rectangle(img, (x,y), (x+w,y+h), (127,0,255), 2)\n",
    "    cv2.imshow('Face detection', img)\n",
    "    cv2.waitKey(0)\n",
    "    roi_gray = gray[y:y+h, x:x+w]\n",
    "    roi_color = img[y:y+h, x:x+w]\n",
    "    eyes = eyeclassifier.detectMultiScale(roi_gray)\n",
    "    for(ex,ey,ew,eh) in eyes:\n",
    "        cv2.rectangle(roi_color, (ex,ey), (ex+ew,ey+eh), (255,255,0), 2)\n",
    "        cv2.imshow('Image detection', img)\n",
    "        cv2.waitKey(0)\n",
    "        \n",
    "    \n",
    "cv2.destroyAllWindows()    "
   ]
  },
  {
   "cell_type": "code",
   "execution_count": null,
   "id": "c865061c",
   "metadata": {},
   "outputs": [],
   "source": []
  },
  {
   "cell_type": "code",
   "execution_count": null,
   "id": "37a54b62",
   "metadata": {},
   "outputs": [],
   "source": []
  }
 ],
 "metadata": {
  "kernelspec": {
   "display_name": "Python 3",
   "language": "python",
   "name": "python3"
  },
  "language_info": {
   "codemirror_mode": {
    "name": "ipython",
    "version": 3
   },
   "file_extension": ".py",
   "mimetype": "text/x-python",
   "name": "python",
   "nbconvert_exporter": "python",
   "pygments_lexer": "ipython3",
   "version": "3.8.8"
  }
 },
 "nbformat": 4,
 "nbformat_minor": 5
}
